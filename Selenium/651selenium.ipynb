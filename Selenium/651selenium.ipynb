{
 "cells": [
  {
   "cell_type": "code",
   "execution_count": 35,
   "metadata": {},
   "outputs": [],
   "source": [
    "from selenium import webdriver\n",
    "import time\n",
    "from selenium.webdriver.common.action_chains import ActionChains\n",
    "import warnings\n",
    "from selenium.webdriver.common.keys import Keys\n",
    "\n",
    "warnings.filterwarnings(\"ignore\")"
   ]
  },
  {
   "cell_type": "code",
   "execution_count": 36,
   "metadata": {},
   "outputs": [],
   "source": [
    "driver = webdriver.Chrome()\n",
    "driver.get(\"http://localhost:3000/\")"
   ]
  },
  {
   "cell_type": "code",
   "execution_count": 37,
   "metadata": {},
   "outputs": [],
   "source": [
    "#get into our login page\n",
    "above=driver.find_element(by='id', value='sign-in')\n",
    "ActionChains(driver).move_to_element(above).perform()\n",
    "time.sleep(2)\n",
    "driver.find_element(by='id', value='login').click()"
   ]
  },
  {
   "cell_type": "code",
   "execution_count": 42,
   "metadata": {},
   "outputs": [],
   "source": [
    "# use test id to login, fail with invalid password\n",
    "driver.find_element(by='id', value='basic_username').send_keys(\"test\")\n",
    "time.sleep(2)\n",
    "driver.find_element(by='id', value='basic_password').send_keys(\"test_no\")\n",
    "time.sleep(2)\n",
    "driver.find_element_by_tag_name(\"button\").click()"
   ]
  },
  {
   "cell_type": "code",
   "execution_count": 44,
   "metadata": {
    "scrolled": true
   },
   "outputs": [],
   "source": [
    "# use test id to login\n",
    "driver.find_element(by='id', value='basic_username').send_keys(Keys.COMMAND, 'a')\n",
    "\n",
    "driver.find_element(by='id', value='basic_username').send_keys(Keys.DELETE)\n",
    "\n",
    "\n",
    "driver.find_element(by='id', value='basic_username').send_keys(\"test\")\n",
    "time.sleep(2)\n",
    "\n",
    "driver.find_element(by='id', value='basic_password').send_keys(Keys.COMMAND, 'a')\n",
    "\n",
    "driver.find_element(by='id', value='basic_password').send_keys(Keys.DELETE)\n",
    "\n",
    "driver.find_element(by='id', value='basic_password').send_keys(\"test\")\n",
    "time.sleep(2)\n",
    "driver.find_element_by_tag_name(\"button\").click()"
   ]
  },
  {
   "cell_type": "code",
   "execution_count": 50,
   "metadata": {},
   "outputs": [],
   "source": [
    "# log out\n",
    "above = driver.find_element_by_class_name(\"ant-dropdown-trigger\")\n",
    "ActionChains(driver).move_to_element(above).perform()\n",
    "time.sleep(2)\n",
    "# driver.find_element_by_class_name()\n",
    "driver.find_element_by_xpath(\"//div[text()='Sign out']\").click()"
   ]
  },
  {
   "cell_type": "code",
   "execution_count": 51,
   "metadata": {},
   "outputs": [],
   "source": [
    "#get into our new user register page\n",
    "above=driver.find_element(by='id', value='sign-in')\n",
    "ActionChains(driver).move_to_element(above).perform()\n",
    "time.sleep(2)\n",
    "driver.find_element_by_xpath(\"//a[text()='New customer? Start here.']\").click()"
   ]
  },
  {
   "cell_type": "code",
   "execution_count": 48,
   "metadata": {},
   "outputs": [],
   "source": [
    "# try register with test id, with invalid password\n",
    "driver.find_element(by='id', value='basic_username').send_keys(\"abcd\")\n",
    "time.sleep(2)\n",
    "driver.find_element(by='id', value='basic_password').send_keys(\"1111\")\n",
    "time.sleep(2)\n",
    "driver.find_element_by_tag_name(\"button\").click()"
   ]
  },
  {
   "cell_type": "code",
   "execution_count": 53,
   "metadata": {},
   "outputs": [],
   "source": [
    "# try register with test id, with Valid password\n",
    "\n",
    "\n",
    "driver.find_element(by='id', value='basic_username').send_keys(Keys.COMMAND, 'a')\n",
    "\n",
    "driver.find_element(by='id', value='basic_username').send_keys(Keys.DELETE)\n",
    "\n",
    "driver.find_element(by='id', value='basic_username').send_keys(\"abcd\")\n",
    "\n",
    "\n",
    "driver.find_element(by='id', value='basic_password').send_keys(Keys.COMMAND, 'a')\n",
    "\n",
    "driver.find_element(by='id', value='basic_password').send_keys(Keys.DELETE)\n",
    "\n",
    "driver.find_element(by='id', value='basic_password').send_keys(\"IamtheBest1!\")\n",
    "time.sleep(2)\n",
    "driver.find_element_by_tag_name(\"button\").click()"
   ]
  },
  {
   "cell_type": "code",
   "execution_count": 54,
   "metadata": {},
   "outputs": [],
   "source": [
    "# try to search in one item\n",
    "driver.find_element_by_class_name(\"ant-input\").send_keys(\"Gala Apple\")\n",
    "time.sleep(2)\n",
    "driver.find_element_by_class_name(\"anticon-search\").click()"
   ]
  },
  {
   "cell_type": "code",
   "execution_count": 55,
   "metadata": {},
   "outputs": [],
   "source": [
    "# get into the detail page of searched item\n",
    "driver.find_element_by_xpath(\"//img[@alt='Gala Apple']\").click()"
   ]
  },
  {
   "cell_type": "code",
   "execution_count": 56,
   "metadata": {},
   "outputs": [],
   "source": [
    "# add and subtract some quantity\n",
    "for i in range(8):\n",
    "    driver.find_element_by_xpath(\"//span[@aria-label='up']\").click()\n",
    "#     time.sleep(2)\n",
    "for i in range(4):\n",
    "    driver.find_element_by_xpath(\"//span[@aria-label='down']\").click()\n",
    "#     time.sleep(2)"
   ]
  },
  {
   "cell_type": "code",
   "execution_count": 57,
   "metadata": {},
   "outputs": [],
   "source": [
    "# add to shopping cart\n",
    "driver.find_element_by_xpath(\"//span[text()='Add to shopping cart']\").click()"
   ]
  },
  {
   "cell_type": "code",
   "execution_count": 59,
   "metadata": {},
   "outputs": [],
   "source": [
    "driver.find_element_by_xpath(\"//span[@aria-label='Decrease Value']\").click()"
   ]
  },
  {
   "cell_type": "code",
   "execution_count": 60,
   "metadata": {},
   "outputs": [],
   "source": [
    "# move to shopping cart\n",
    "driver.find_element_by_class_name(\"ant-badge\").click()"
   ]
  },
  {
   "cell_type": "code",
   "execution_count": 61,
   "metadata": {},
   "outputs": [],
   "source": [
    "# checkout shopping cart\n",
    "driver.find_element_by_xpath(\"//span[text()='Check Out']\").click()\n",
    "time.sleep(3)\n",
    "driver.find_element_by_xpath(\"//div/button[@class='ant-btn ant-btn-primary ant-btn-sm']/span\").click()\n",
    "#两个放在一起就会报错！not clickable.....需要sleep几秒给系统反应"
   ]
  },
  {
   "cell_type": "code",
   "execution_count": 62,
   "metadata": {},
   "outputs": [],
   "source": [
    "# 进入ORDER界面\n",
    "driver.find_element_by_xpath(\"//a[text()='Orders']\").click()\n",
    "time.sleep(2)\n",
    "# 无法区分后面几个和前面几个订单，这个方法只会返回第一个找到的订单\n",
    "driver.find_element_by_xpath(\"//td[@class='ant-table-cell']/div/a\").click()"
   ]
  },
  {
   "cell_type": "code",
   "execution_count": null,
   "metadata": {},
   "outputs": [],
   "source": []
  }
 ],
 "metadata": {
  "kernelspec": {
   "display_name": "Python 3",
   "language": "python",
   "name": "python3"
  },
  "language_info": {
   "codemirror_mode": {
    "name": "ipython",
    "version": 3
   },
   "file_extension": ".py",
   "mimetype": "text/x-python",
   "name": "python",
   "nbconvert_exporter": "python",
   "pygments_lexer": "ipython3",
   "version": "3.7.7"
  }
 },
 "nbformat": 4,
 "nbformat_minor": 5
}
